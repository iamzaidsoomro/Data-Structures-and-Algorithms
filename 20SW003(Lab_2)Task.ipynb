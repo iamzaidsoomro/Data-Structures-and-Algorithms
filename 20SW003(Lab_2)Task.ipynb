{
  "nbformat": 4,
  "nbformat_minor": 0,
  "metadata": {
    "colab": {
      "provenance": [],
      "include_colab_link": true
    },
    "kernelspec": {
      "name": "python3",
      "display_name": "Python 3"
    },
    "language_info": {
      "name": "python"
    }
  },
  "cells": [
    {
      "cell_type": "markdown",
      "metadata": {
        "id": "view-in-github",
        "colab_type": "text"
      },
      "source": [
        "<a href=\"https://colab.research.google.com/github/iamzaidsoomro/Data-Structures-and-Algorithms/blob/main/20SW003(Lab_2)Task.ipynb\" target=\"_parent\"><img src=\"https://colab.research.google.com/assets/colab-badge.svg\" alt=\"Open In Colab\"/></a>"
      ]
    },
    {
      "cell_type": "code",
      "execution_count": null,
      "metadata": {
        "colab": {
          "base_uri": "https://localhost:8080/"
        },
        "id": "Yx1n0M77kUm8",
        "outputId": "b1e24bd6-d2a0-40bb-e3ec-e7b31bc4e057"
      },
      "outputs": [
        {
          "output_type": "stream",
          "name": "stdout",
          "text": [
            "Enter your age: 58\n",
            "The bus fare is $2.50\n"
          ]
        }
      ],
      "source": [
        "def calculate_bus_fare(age):\n",
        "    if age < 8:\n",
        "        bus_fare = 0\n",
        "    elif age < 18:\n",
        "        bus_fare = 1.5\n",
        "    elif age < 65:\n",
        "        bus_fare = 2.5\n",
        "    else:\n",
        "        bus_fare = None  # If the age does not match any condition, set bus_fare to None\n",
        "\n",
        "    return bus_fare\n",
        "\n",
        "# Taking age as input from the user\n",
        "try:\n",
        "    age = int(input(\"Enter your age: \"))\n",
        "    bus_fare = calculate_bus_fare(age)\n",
        "    if bus_fare is not None:\n",
        "        print(f\"The bus fare is ${bus_fare:.2f}\")\n",
        "    else:\n",
        "        print(\"No fare information available for this age.\")\n",
        "except ValueError:\n",
        "    print(\"Invalid input! Please enter a valid age.\")"
      ]
    },
    {
      "cell_type": "code",
      "source": [
        "result_list = [num ** 3 if num % 3 == 0 else num ** 2 for num in range(1, 31)]\n",
        "print(result_list)"
      ],
      "metadata": {
        "colab": {
          "base_uri": "https://localhost:8080/"
        },
        "id": "ChN9HVnyrJ1A",
        "outputId": "1c78663c-6bd8-4315-ece1-d50e05cd7fd8"
      },
      "execution_count": null,
      "outputs": [
        {
          "output_type": "stream",
          "name": "stdout",
          "text": [
            "[1, 4, 27, 16, 25, 216, 49, 64, 729, 100, 121, 1728, 169, 196, 3375, 256, 289, 5832, 361, 400, 9261, 484, 529, 13824, 625, 676, 19683, 784, 841, 27000]\n"
          ]
        }
      ]
    },
    {
      "cell_type": "code",
      "source": [
        "answer = 42  # You can replace this with any number you want to hide\n",
        "\n",
        "guess = int(input(\"Enter your guess: \"))\n",
        "\n",
        "if guess == answer:\n",
        "    print(\"Congratulations! Your guess is correct!\")\n",
        "elif guess < answer:\n",
        "    print(\"Too low! Try a higher number.\")\n",
        "else:\n",
        "    print(\"Too high! Try a lower number.\")"
      ],
      "metadata": {
        "colab": {
          "base_uri": "https://localhost:8080/"
        },
        "id": "TaoiFQCxyoJ0",
        "outputId": "c682ccab-c2bf-428d-b55b-3a6a03f8a969"
      },
      "execution_count": null,
      "outputs": [
        {
          "output_type": "stream",
          "name": "stdout",
          "text": [
            "Enter your guess: 23\n",
            "Too low! Try a higher number.\n"
          ]
        }
      ]
    },
    {
      "cell_type": "code",
      "source": [
        "def calculate_tax(purchase_amount, state):\n",
        "    tax_rates = {'CA': 0.075, 'MN': 0.095, 'NY': 0.089}\n",
        "\n",
        "    if state in tax_rates:\n",
        "        tax_rate = tax_rates[state]\n",
        "        taxed_amount = purchase_amount * (1 + tax_rate)\n",
        "        return taxed_amount\n",
        "    else:\n",
        "        print(\"Error: Invalid state entered.\")\n",
        "        return None\n",
        "\n",
        "# Taking user input for the purchase amount and state\n",
        "try:\n",
        "    purchase_amount = float(input(\"Enter the purchase amount: $\"))\n",
        "    state = input(\"Enter the state (CA, MN, or NY): \").upper()\n",
        "\n",
        "    taxed_amount = calculate_tax(purchase_amount, state)\n",
        "    if taxed_amount is not None:\n",
        "        print(f\"The taxed amount is: ${taxed_amount:.2f}\")\n",
        "except ValueError:\n",
        "    print(\"Invalid input! Please enter a valid purchase amount.\")"
      ],
      "metadata": {
        "colab": {
          "base_uri": "https://localhost:8080/"
        },
        "id": "MaSDeckFy6Tk",
        "outputId": "e57330a7-8e0f-4633-d087-841a70646a50"
      },
      "execution_count": null,
      "outputs": [
        {
          "output_type": "stream",
          "name": "stdout",
          "text": [
            "Enter the purchase amount: $200]\n",
            "Invalid input! Please enter a valid purchase amount.\n"
          ]
        }
      ]
    },
    {
      "cell_type": "code",
      "source": [
        "sentence = [\"the\", \"quick\", \"brown\", \"fox\", \"jumped\", \"over\", \"the\", \"lazy\", \"dog\"]\n",
        "\n",
        "for word in sentence:\n",
        "    print(word)"
      ],
      "metadata": {
        "colab": {
          "base_uri": "https://localhost:8080/"
        },
        "id": "CaaDqO-EzEiD",
        "outputId": "3f802e1f-62a5-43dd-dea3-2f900de29604"
      },
      "execution_count": null,
      "outputs": [
        {
          "output_type": "stream",
          "name": "stdout",
          "text": [
            "the\n",
            "quick\n",
            "brown\n",
            "fox\n",
            "jumped\n",
            "over\n",
            "the\n",
            "lazy\n",
            "dog\n"
          ]
        }
      ]
    },
    {
      "cell_type": "code",
      "source": [
        "for num in range(5, 31, 5):\n",
        "    print(num)"
      ],
      "metadata": {
        "colab": {
          "base_uri": "https://localhost:8080/"
        },
        "id": "CWwB4bl1zOCI",
        "outputId": "f793ef8b-907d-4bca-f092-a11e27410135"
      },
      "execution_count": null,
      "outputs": [
        {
          "output_type": "stream",
          "name": "stdout",
          "text": [
            "5\n",
            "10\n",
            "15\n",
            "20\n",
            "25\n",
            "30\n"
          ]
        }
      ]
    },
    {
      "cell_type": "code",
      "source": [
        "names = [\"Rick Sanchez\", \"Morty Smith\", \"Summer Smith\", \"Jerry Smith\", \"Beth Smith\"]\n",
        "\n",
        "first_names = [name.split()[0].lower() for name in names]\n",
        "print(first_names)"
      ],
      "metadata": {
        "colab": {
          "base_uri": "https://localhost:8080/"
        },
        "id": "VJ8SjeDzzYH1",
        "outputId": "5a65d7a0-f6d7-46b1-b2c7-b03e53a43fcc"
      },
      "execution_count": null,
      "outputs": [
        {
          "output_type": "stream",
          "name": "stdout",
          "text": [
            "['rick', 'morty', 'summer', 'jerry', 'beth']\n"
          ]
        }
      ]
    },
    {
      "cell_type": "code",
      "source": [
        "# Assuming you have a list of names and scores like this\n",
        "names_scores = [(\"John\", 80), (\"Alice\", 70), (\"Bob\", 55), (\"Mary\", 90), (\"Tom\", 60)]\n",
        "\n",
        "# List comprehension to filter names with scores >= 65\n",
        "passed_names = [name for name, score in names_scores if score >= 65]\n",
        "\n",
        "print(passed_names)"
      ],
      "metadata": {
        "colab": {
          "base_uri": "https://localhost:8080/"
        },
        "id": "tHgo_hzgziv3",
        "outputId": "9db7dd71-f3cc-4345-9fb4-6a5e69087cad"
      },
      "execution_count": null,
      "outputs": [
        {
          "output_type": "stream",
          "name": "stdout",
          "text": [
            "['John', 'Alice', 'Mary']\n"
          ]
        }
      ]
    },
    {
      "cell_type": "code",
      "source": [
        "names = [\"Alice\", \"Bob\", \"Charlie\", \"David\"]\n",
        "heights = [165, 175, 160, 180]\n",
        "\n",
        "# Using zip to create the dictionary\n",
        "cast = dict(zip(names, heights))\n",
        "\n",
        "print(cast)"
      ],
      "metadata": {
        "colab": {
          "base_uri": "https://localhost:8080/"
        },
        "id": "B_mNR2J7zvsi",
        "outputId": "69cf580d-dd8f-44d0-c5c9-8cd320e27c9d"
      },
      "execution_count": null,
      "outputs": [
        {
          "output_type": "stream",
          "name": "stdout",
          "text": [
            "{'Alice': 165, 'Bob': 175, 'Charlie': 160, 'David': 180}\n"
          ]
        }
      ]
    },
    {
      "cell_type": "code",
      "source": [
        "cast = [\"Barney Stinson\", \"Ted Mosby\", \"Marshall Eriksen\", \"Robin Scherbatsky\", \"Lily Aldrin\"]\n",
        "heights = [72, 70, 74, 68, 66]\n",
        "\n",
        "# Using enumerate and list comprehension to modify the cast list\n",
        "cast_with_height = [f\"{name} {height}\" for name, height in zip(cast, heights)]\n",
        "\n",
        "print(cast_with_height)"
      ],
      "metadata": {
        "colab": {
          "base_uri": "https://localhost:8080/"
        },
        "id": "vhszbbdsz4n4",
        "outputId": "29798d6c-5a15-441b-f793-5d8b0466a8a7"
      },
      "execution_count": null,
      "outputs": [
        {
          "output_type": "stream",
          "name": "stdout",
          "text": [
            "['Barney Stinson 72', 'Ted Mosby 70', 'Marshall Eriksen 74', 'Robin Scherbatsky 68', 'Lily Aldrin 66']\n"
          ]
        }
      ]
    }
  ]
}